{
 "cells": [
  {
   "cell_type": "code",
   "execution_count": 13,
   "id": "0bdff771",
   "metadata": {},
   "outputs": [],
   "source": [
    "import numpy as np\n",
    "import pandas as pd\n",
    "import joblib"
   ]
  },
  {
   "cell_type": "code",
   "execution_count": 14,
   "id": "ef15266b",
   "metadata": {},
   "outputs": [
    {
     "data": {
      "text/plain": [
       "array(['PassengerId', 'HomePlanet', 'CryoSleep', 'Cabin', 'Destination',\n",
       "       'Age', 'VIP', 'RoomService', 'FoodCourt', 'ShoppingMall', 'Spa',\n",
       "       'VRDeck', 'Name', 'Transported'], dtype=object)"
      ]
     },
     "execution_count": 14,
     "metadata": {},
     "output_type": "execute_result"
    }
   ],
   "source": [
    "df=pd.read_csv(\"train.csv\")\n",
    "df.columns.values"
   ]
  },
  {
   "cell_type": "code",
   "execution_count": 15,
   "id": "64c7681b",
   "metadata": {},
   "outputs": [
    {
     "data": {
      "text/plain": [
       "PassengerId             0001_01\n",
       "HomePlanet               Europa\n",
       "CryoSleep                 False\n",
       "Cabin                     B/0/P\n",
       "Destination         TRAPPIST-1e\n",
       "Age                        39.0\n",
       "VIP                       False\n",
       "RoomService                 0.0\n",
       "FoodCourt                   0.0\n",
       "ShoppingMall                0.0\n",
       "Spa                         0.0\n",
       "VRDeck                      0.0\n",
       "Name            Maham Ofracculy\n",
       "Transported               False\n",
       "Name: 0, dtype: object"
      ]
     },
     "execution_count": 15,
     "metadata": {},
     "output_type": "execute_result"
    }
   ],
   "source": [
    "df.iloc[0,:]"
   ]
  },
  {
   "cell_type": "code",
   "execution_count": 16,
   "id": "90dce964",
   "metadata": {},
   "outputs": [
    {
     "data": {
      "text/plain": [
       "PassengerId       0\n",
       "HomePlanet      201\n",
       "CryoSleep       217\n",
       "Cabin           199\n",
       "Destination     182\n",
       "Age             179\n",
       "VIP             203\n",
       "RoomService     181\n",
       "FoodCourt       183\n",
       "ShoppingMall    208\n",
       "Spa             183\n",
       "VRDeck          188\n",
       "Name            200\n",
       "Transported       0\n",
       "dtype: int64"
      ]
     },
     "execution_count": 16,
     "metadata": {},
     "output_type": "execute_result"
    }
   ],
   "source": [
    "df.isnull().sum()"
   ]
  },
  {
   "cell_type": "code",
   "execution_count": 17,
   "id": "167c9e72",
   "metadata": {},
   "outputs": [
    {
     "data": {
      "text/plain": [
       "Index(['PassengerId', 'HomePlanet', 'CryoSleep', 'Cabin', 'Destination', 'Age',\n",
       "       'VIP', 'RoomService', 'FoodCourt', 'ShoppingMall', 'Spa', 'VRDeck',\n",
       "       'Name', 'Transported'],\n",
       "      dtype='object')"
      ]
     },
     "execution_count": 17,
     "metadata": {},
     "output_type": "execute_result"
    }
   ],
   "source": [
    "df.columns"
   ]
  },
  {
   "cell_type": "code",
   "execution_count": 18,
   "id": "a94f9ae8",
   "metadata": {},
   "outputs": [
    {
     "data": {
      "text/plain": [
       "(['PassengerId',\n",
       "  'HomePlanet',\n",
       "  'CryoSleep',\n",
       "  'Cabin',\n",
       "  'Destination',\n",
       "  'Age',\n",
       "  'VIP',\n",
       "  'RoomService',\n",
       "  'FoodCourt',\n",
       "  'ShoppingMall',\n",
       "  'Spa',\n",
       "  'VRDeck',\n",
       "  'Name',\n",
       "  'Transported'],)"
      ]
     },
     "execution_count": 18,
     "metadata": {},
     "output_type": "execute_result"
    }
   ],
   "source": [
    "['PassengerId', 'HomePlanet', 'CryoSleep', 'Cabin', 'Destination', 'Age',\n",
    "       'VIP', 'RoomService', 'FoodCourt', 'ShoppingMall', 'Spa', 'VRDeck',\n",
    "       'Name', 'Transported'],"
   ]
  },
  {
   "cell_type": "code",
   "execution_count": 19,
   "id": "a20739f7",
   "metadata": {},
   "outputs": [
    {
     "data": {
      "text/plain": [
       "array(['TRAPPIST-1e', 'PSO J318.5-22', '55 Cancri e', nan], dtype=object)"
      ]
     },
     "execution_count": 19,
     "metadata": {},
     "output_type": "execute_result"
    }
   ],
   "source": [
    "df['Destination'].unique()"
   ]
  },
  {
   "cell_type": "code",
   "execution_count": 20,
   "id": "2e4134ea",
   "metadata": {},
   "outputs": [
    {
     "data": {
      "text/plain": [
       "Index(['PassengerId', 'HomePlanet', 'CryoSleep', 'Cabin', 'Destination', 'Age',\n",
       "       'VIP', 'RoomService', 'FoodCourt', 'ShoppingMall', 'Spa', 'VRDeck',\n",
       "       'Name'],\n",
       "      dtype='object')"
      ]
     },
     "execution_count": 20,
     "metadata": {},
     "output_type": "execute_result"
    }
   ],
   "source": [
    "test_df=pd.read_csv(\"test.csv\")\n",
    "test_df.columns.values\n",
    "test_df.isnull().sum()\n",
    "test_df.columns"
   ]
  },
  {
   "cell_type": "code",
   "execution_count": 25,
   "id": "e7895250",
   "metadata": {},
   "outputs": [],
   "source": [
    "from sklearn.pipeline import Pipeline\n",
    "from sklearn.base import BaseEstimator,TransformerMixin\n",
    "from sklearn.impute import SimpleImputer\n",
    "import pandas as pd\n",
    "import numpy as np\n",
    "from sklearn.preprocessing import FunctionTransformer\n",
    "from sklearn.preprocessing import StandardScaler\n",
    "class ExperimentalTransformer(BaseEstimator,TransformerMixin):\n",
    "    def __init__(self):\n",
    "        pass\n",
    "    def fit(self,X,y=None):\n",
    "        return self\n",
    "    def transform(self,X,y=None):\n",
    "        \n",
    "        #A=X[['HomePlanet', 'CryoSleep', 'Cabin', 'Destination', 'Age','VIP', 'RoomService', 'FoodCourt', 'ShoppingMall', 'Spa', 'VRDeck']]\n",
    "        imp_mf = SimpleImputer(missing_values=np.nan, strategy='most_frequent')\n",
    "        Home_Planet=X['HomePlanet'].array.reshape(-1, 1)\n",
    "        imp_mf.fit(Home_Planet)\n",
    "        Home_Planet_transformed=imp_mf.transform(Home_Planet)\n",
    "        Home_Planet_imputed_final=pd.DataFrame(Home_Planet_transformed,columns=['HomePlanet'])\n",
    "        Home_Planet_imputed_final.replace(to_replace=['Europa','Earth','Mars'], value=[1,2,3],inplace=True)\n",
    " \n",
    "        Cryo_Sleep=X['CryoSleep']\n",
    "        if(Cryo_Sleep.isnull().sum()>0):\n",
    "            imp_mf2 = SimpleImputer(missing_values=np.nan, strategy='most_frequent')\n",
    "            Cryo_Sleep=X['CryoSleep'].array.reshape(-1, 1)\n",
    "            imp_mf2.fit(Cryo_Sleep)\n",
    "            Cryo_Sleep_transformed=imp_mf2.transform(Cryo_Sleep)\n",
    "            Cryo_Sleep_imputed_final=pd.DataFrame(Cryo_Sleep_transformed,columns=['CryoSleep'])\n",
    "            Cryo_Sleep_imputed_final = Cryo_Sleep_imputed_final.astype(int)\n",
    "        else:\n",
    "            Cryo_Sleep_imputed_final=Cryo_Sleep.astype(int)\n",
    "            \n",
    "            \n",
    "        imp_mf3 = SimpleImputer(missing_values=np.nan, strategy='most_frequent')\n",
    "        Destination=X['Destination'].array.reshape(-1, 1)\n",
    "        imp_mf3.fit(Destination)\n",
    "        Destination_transformed=imp_mf3.transform(Destination)\n",
    "        Destination_transformed_imputed_final=pd.DataFrame(Destination_transformed,columns=['HomePlanet'])        \n",
    "        Destination_transformed_imputed_final.replace(to_replace=['TRAPPIST-1e', 'PSO J318.5-22', '55 Cancri e'], value=[1,2,3],inplace=True)       \n",
    "        VIP=X['VIP']\n",
    "        if(VIP.isnull().sum()>0):\n",
    "            imp_mf4 = SimpleImputer(missing_values=np.nan, strategy='most_frequent')   \n",
    "            VIP=X['VIP'].array.reshape(-1, 1)\n",
    "            imp_mf4.fit(VIP)\n",
    "            VIP_transformed=imp_mf4.transform(VIP)\n",
    "            VIP_imputed_final=pd.DataFrame(VIP_transformed,columns=['VIP'])\n",
    "            VIP_imputed_final = VIP_imputed_final.astype(int)\n",
    "        else:\n",
    "            VIP_imputed_final=VIP.astype(int)     \n",
    "        IQR =X['Age'].quantile(0.75)-X['Age'].quantile(0.25)\n",
    "        value=X['Age'].quantile(0.75)+(1.5*IQR)\n",
    "        Age_final=X['Age']=X['Age'].fillna(value)\n",
    "        rest=X[['RoomService', 'FoodCourt', 'ShoppingMall', 'Spa', 'VRDeck']]\n",
    "\n",
    "        for var in rest:\n",
    "            IQR =rest[var].quantile(0.75)-rest[var].quantile(0.25)\n",
    "            value=rest[var].quantile(0.75)+(1.5*IQR)\n",
    "            rest[var]=rest[var].fillna(value)\n",
    "        features = pd.concat([Home_Planet_imputed_final, Cryo_Sleep_imputed_final,Destination_transformed_imputed_final,Age_final,VIP_imputed_final,rest], axis=1)\n",
    "        transformer = FunctionTransformer(np.sqrt)\n",
    "        transformer.fit(features)\n",
    "        X_transformed=transformer.transform(features)\n",
    "        scaler=StandardScaler()\n",
    "        Z= scaler.fit_transform(X_transformed)\n",
    "        \n",
    "\n",
    "    \n",
    "\n",
    "        \n",
    "\n",
    "        return Z\n",
    "\n",
    "        \n",
    "        \n"
   ]
  },
  {
   "cell_type": "code",
   "execution_count": 26,
   "id": "746571c3",
   "metadata": {},
   "outputs": [],
   "source": [
    "y=df['Transported']\n",
    "\n",
    "y = y.astype(int)\n"
   ]
  },
  {
   "cell_type": "code",
   "execution_count": 23,
   "id": "5763bfea",
   "metadata": {},
   "outputs": [],
   "source": [
    "# filename = 'preprocessing_model.sav'\n",
    "# joblib.dump(obj, filename)"
   ]
  },
  {
   "cell_type": "code",
   "execution_count": 27,
   "id": "a883ec80",
   "metadata": {},
   "outputs": [
    {
     "name": "stderr",
     "output_type": "stream",
     "text": [
      "/home/arijit/anaconda3/lib/python3.7/site-packages/ipykernel_launcher.py:59: SettingWithCopyWarning: \n",
      "A value is trying to be set on a copy of a slice from a DataFrame.\n",
      "Try using .loc[row_indexer,col_indexer] = value instead\n",
      "\n",
      "See the caveats in the documentation: https://pandas.pydata.org/pandas-docs/stable/user_guide/indexing.html#returning-a-view-versus-a-copy\n",
      "/home/arijit/anaconda3/lib/python3.7/site-packages/ipykernel_launcher.py:59: SettingWithCopyWarning: \n",
      "A value is trying to be set on a copy of a slice from a DataFrame.\n",
      "Try using .loc[row_indexer,col_indexer] = value instead\n",
      "\n",
      "See the caveats in the documentation: https://pandas.pydata.org/pandas-docs/stable/user_guide/indexing.html#returning-a-view-versus-a-copy\n"
     ]
    },
    {
     "name": "stdout",
     "output_type": "stream",
     "text": [
      "0.8375704589899919\n",
      "0.7879903370528011\n",
      "0.8038651788795582\n",
      "0.7889106177384102\n",
      "0.814448406764063\n"
     ]
    }
   ],
   "source": [
    "from sklearn.ensemble import RandomForestClassifier\n",
    "from sklearn.model_selection import GridSearchCV\n",
    "model= RandomForestClassifier(n_estimators = 1000)\n",
    "obj = ExperimentalTransformer()\n",
    "obj.transform(df)\n",
    "\n",
    "X=obj.transform(df)\n",
    "grid2 = {'max_depth':[10,15,300]}\n",
    "bestmodel = GridSearchCV(model, grid2, cv = 5)\n",
    "bestmodel.fit(X, y)\n",
    "print(bestmodel.score(X,y))\n",
    "from sklearn.linear_model import LogisticRegression\n",
    "log_model=LogisticRegression(penalty = 'l2', max_iter = 100000,random_state=42,C=10)\n",
    "\n",
    "grid1 = {'solver':['lbfgs', 'newton-cg', 'sag']}\n",
    "\n",
    "bestLogReg = GridSearchCV(log_model, grid1, cv= 5)\n",
    "bestLogReg.fit(X, y)\n",
    "print(bestLogReg.score(X,y))\n",
    "\n",
    "from sklearn.tree import DecisionTreeClassifier\n",
    "from sklearn.ensemble import BaggingClassifier\n",
    "\n",
    "bag_clf=BaggingClassifier(DecisionTreeClassifier(max_depth=20),n_estimators=10,max_samples=800,bootstrap=True)\n",
    "bag_clf.fit(X,y)\n",
    "print(bag_clf.score(X,y))\n",
    "\n",
    "\n",
    "from sklearn import svm\n",
    "clf = svm.SVC(kernel='linear')\n",
    "\n",
    "clf.fit(X, y)\n",
    "print(clf.score(X,y))\n",
    "\n",
    "\n",
    "from sklearn.ensemble import VotingClassifier\n",
    "voting_clf=VotingClassifier(estimators=[('rf',bestmodel),('lr',log_model),('svc',clf),('dt',bag_clf)],voting='hard')\n",
    "voting_clf.fit(X,y)\n",
    "print(voting_clf.score(X,y))\n"
   ]
  },
  {
   "cell_type": "code",
   "execution_count": 28,
   "id": "0e77b2ff",
   "metadata": {},
   "outputs": [
    {
     "data": {
      "text/plain": [
       "['model.sav']"
      ]
     },
     "execution_count": 28,
     "metadata": {},
     "output_type": "execute_result"
    }
   ],
   "source": [
    "filename = 'model.sav'\n",
    "joblib.dump(voting_clf, filename)"
   ]
  },
  {
   "cell_type": "code",
   "execution_count": 29,
   "id": "96d194ef",
   "metadata": {},
   "outputs": [
    {
     "data": {
      "text/html": [
       "<div>\n",
       "<style scoped>\n",
       "    .dataframe tbody tr th:only-of-type {\n",
       "        vertical-align: middle;\n",
       "    }\n",
       "\n",
       "    .dataframe tbody tr th {\n",
       "        vertical-align: top;\n",
       "    }\n",
       "\n",
       "    .dataframe thead th {\n",
       "        text-align: right;\n",
       "    }\n",
       "</style>\n",
       "<table border=\"1\" class=\"dataframe\">\n",
       "  <thead>\n",
       "    <tr style=\"text-align: right;\">\n",
       "      <th></th>\n",
       "      <th>PassengerId</th>\n",
       "      <th>HomePlanet</th>\n",
       "      <th>CryoSleep</th>\n",
       "      <th>Cabin</th>\n",
       "      <th>Destination</th>\n",
       "      <th>Age</th>\n",
       "      <th>VIP</th>\n",
       "      <th>RoomService</th>\n",
       "      <th>FoodCourt</th>\n",
       "      <th>ShoppingMall</th>\n",
       "      <th>Spa</th>\n",
       "      <th>VRDeck</th>\n",
       "      <th>Name</th>\n",
       "    </tr>\n",
       "  </thead>\n",
       "  <tbody>\n",
       "    <tr>\n",
       "      <th>0</th>\n",
       "      <td>0013_01</td>\n",
       "      <td>Earth</td>\n",
       "      <td>True</td>\n",
       "      <td>G/3/S</td>\n",
       "      <td>TRAPPIST-1e</td>\n",
       "      <td>27.0</td>\n",
       "      <td>False</td>\n",
       "      <td>0.0</td>\n",
       "      <td>0.0</td>\n",
       "      <td>0.0</td>\n",
       "      <td>0.0</td>\n",
       "      <td>0.0</td>\n",
       "      <td>Nelly Carsoning</td>\n",
       "    </tr>\n",
       "    <tr>\n",
       "      <th>1</th>\n",
       "      <td>0018_01</td>\n",
       "      <td>Earth</td>\n",
       "      <td>False</td>\n",
       "      <td>F/4/S</td>\n",
       "      <td>TRAPPIST-1e</td>\n",
       "      <td>19.0</td>\n",
       "      <td>False</td>\n",
       "      <td>0.0</td>\n",
       "      <td>9.0</td>\n",
       "      <td>0.0</td>\n",
       "      <td>2823.0</td>\n",
       "      <td>0.0</td>\n",
       "      <td>Lerome Peckers</td>\n",
       "    </tr>\n",
       "    <tr>\n",
       "      <th>2</th>\n",
       "      <td>0019_01</td>\n",
       "      <td>Europa</td>\n",
       "      <td>True</td>\n",
       "      <td>C/0/S</td>\n",
       "      <td>55 Cancri e</td>\n",
       "      <td>31.0</td>\n",
       "      <td>False</td>\n",
       "      <td>0.0</td>\n",
       "      <td>0.0</td>\n",
       "      <td>0.0</td>\n",
       "      <td>0.0</td>\n",
       "      <td>0.0</td>\n",
       "      <td>Sabih Unhearfus</td>\n",
       "    </tr>\n",
       "    <tr>\n",
       "      <th>3</th>\n",
       "      <td>0021_01</td>\n",
       "      <td>Europa</td>\n",
       "      <td>False</td>\n",
       "      <td>C/1/S</td>\n",
       "      <td>TRAPPIST-1e</td>\n",
       "      <td>38.0</td>\n",
       "      <td>False</td>\n",
       "      <td>0.0</td>\n",
       "      <td>6652.0</td>\n",
       "      <td>0.0</td>\n",
       "      <td>181.0</td>\n",
       "      <td>585.0</td>\n",
       "      <td>Meratz Caltilter</td>\n",
       "    </tr>\n",
       "    <tr>\n",
       "      <th>4</th>\n",
       "      <td>0023_01</td>\n",
       "      <td>Earth</td>\n",
       "      <td>False</td>\n",
       "      <td>F/5/S</td>\n",
       "      <td>TRAPPIST-1e</td>\n",
       "      <td>20.0</td>\n",
       "      <td>False</td>\n",
       "      <td>10.0</td>\n",
       "      <td>0.0</td>\n",
       "      <td>635.0</td>\n",
       "      <td>0.0</td>\n",
       "      <td>0.0</td>\n",
       "      <td>Brence Harperez</td>\n",
       "    </tr>\n",
       "  </tbody>\n",
       "</table>\n",
       "</div>"
      ],
      "text/plain": [
       "  PassengerId HomePlanet CryoSleep  Cabin  Destination   Age    VIP  \\\n",
       "0     0013_01      Earth      True  G/3/S  TRAPPIST-1e  27.0  False   \n",
       "1     0018_01      Earth     False  F/4/S  TRAPPIST-1e  19.0  False   \n",
       "2     0019_01     Europa      True  C/0/S  55 Cancri e  31.0  False   \n",
       "3     0021_01     Europa     False  C/1/S  TRAPPIST-1e  38.0  False   \n",
       "4     0023_01      Earth     False  F/5/S  TRAPPIST-1e  20.0  False   \n",
       "\n",
       "   RoomService  FoodCourt  ShoppingMall     Spa  VRDeck              Name  \n",
       "0          0.0        0.0           0.0     0.0     0.0   Nelly Carsoning  \n",
       "1          0.0        9.0           0.0  2823.0     0.0    Lerome Peckers  \n",
       "2          0.0        0.0           0.0     0.0     0.0   Sabih Unhearfus  \n",
       "3          0.0     6652.0           0.0   181.0   585.0  Meratz Caltilter  \n",
       "4         10.0        0.0         635.0     0.0     0.0   Brence Harperez  "
      ]
     },
     "execution_count": 29,
     "metadata": {},
     "output_type": "execute_result"
    }
   ],
   "source": [
    "test_df=pd.read_csv(\"test.csv\")\n",
    "test_df.columns.values\n",
    "test_df.isnull().sum()\n",
    "test_df.head()"
   ]
  },
  {
   "cell_type": "code",
   "execution_count": 30,
   "id": "cd4a5b78",
   "metadata": {},
   "outputs": [
    {
     "name": "stderr",
     "output_type": "stream",
     "text": [
      "/home/arijit/anaconda3/lib/python3.7/site-packages/ipykernel_launcher.py:59: SettingWithCopyWarning: \n",
      "A value is trying to be set on a copy of a slice from a DataFrame.\n",
      "Try using .loc[row_indexer,col_indexer] = value instead\n",
      "\n",
      "See the caveats in the documentation: https://pandas.pydata.org/pandas-docs/stable/user_guide/indexing.html#returning-a-view-versus-a-copy\n"
     ]
    },
    {
     "data": {
      "text/plain": [
       "array([[ 0.11435947,  1.33044268, -0.61194577, ..., -0.51210587,\n",
       "        -0.49390451, -0.45864603],\n",
       "       [ 0.11435947, -0.75162953, -0.61194577, ..., -0.51210587,\n",
       "         2.93401347, -0.45864603],\n",
       "       [-1.55941783,  1.33044268,  1.8559391 , ..., -0.51210587,\n",
       "        -0.49390451, -0.45864603],\n",
       "       ...,\n",
       "       [ 1.39869396,  1.33044268,  1.8559391 , ..., -0.51210587,\n",
       "        -0.49390451, -0.45864603],\n",
       "       [-1.55941783, -0.75162953, -0.61194577, ..., -0.51210587,\n",
       "        -0.49390451,  0.97827968],\n",
       "       [ 0.11435947,  1.33044268,  0.78444827, ..., -0.51210587,\n",
       "        -0.49390451, -0.45864603]])"
      ]
     },
     "execution_count": 30,
     "metadata": {},
     "output_type": "execute_result"
    }
   ],
   "source": [
    "obj= ExperimentalTransformer()\n",
    "obj.transform(test_df)"
   ]
  },
  {
   "cell_type": "code",
   "execution_count": 31,
   "id": "75495ea2",
   "metadata": {},
   "outputs": [
    {
     "data": {
      "text/plain": [
       "['preprocessing.sav']"
      ]
     },
     "execution_count": 31,
     "metadata": {},
     "output_type": "execute_result"
    }
   ],
   "source": [
    "filename1 = 'preprocessing.sav'\n",
    "joblib.dump(obj, filename1)"
   ]
  },
  {
   "cell_type": "code",
   "execution_count": 32,
   "id": "fb526f30",
   "metadata": {},
   "outputs": [
    {
     "name": "stdout",
     "output_type": "stream",
     "text": [
      "[[ 0.11435947  1.33044268 -0.61194577 ... -0.51210587 -0.49390451\n",
      "  -0.45864603]\n",
      " [ 0.11435947 -0.75162953 -0.61194577 ... -0.51210587  2.93401347\n",
      "  -0.45864603]\n",
      " [-1.55941783  1.33044268  1.8559391  ... -0.51210587 -0.49390451\n",
      "  -0.45864603]\n",
      " ...\n",
      " [ 1.39869396  1.33044268  1.8559391  ... -0.51210587 -0.49390451\n",
      "  -0.45864603]\n",
      " [-1.55941783 -0.75162953 -0.61194577 ... -0.51210587 -0.49390451\n",
      "   0.97827968]\n",
      " [ 0.11435947  1.33044268  0.78444827 ... -0.51210587 -0.49390451\n",
      "  -0.45864603]]\n"
     ]
    },
    {
     "name": "stderr",
     "output_type": "stream",
     "text": [
      "/home/arijit/anaconda3/lib/python3.7/site-packages/ipykernel_launcher.py:59: SettingWithCopyWarning: \n",
      "A value is trying to be set on a copy of a slice from a DataFrame.\n",
      "Try using .loc[row_indexer,col_indexer] = value instead\n",
      "\n",
      "See the caveats in the documentation: https://pandas.pydata.org/pandas-docs/stable/user_guide/indexing.html#returning-a-view-versus-a-copy\n"
     ]
    }
   ],
   "source": [
    "loaded_preprocessing = joblib.load('preprocessing.sav')\n",
    "result = loaded_preprocessing.transform(test_df)\n",
    "print(result)"
   ]
  },
  {
   "cell_type": "code",
   "execution_count": 33,
   "id": "ecfb2f2f",
   "metadata": {},
   "outputs": [
    {
     "name": "stderr",
     "output_type": "stream",
     "text": [
      "/home/arijit/anaconda3/lib/python3.7/site-packages/ipykernel_launcher.py:59: SettingWithCopyWarning: \n",
      "A value is trying to be set on a copy of a slice from a DataFrame.\n",
      "Try using .loc[row_indexer,col_indexer] = value instead\n",
      "\n",
      "See the caveats in the documentation: https://pandas.pydata.org/pandas-docs/stable/user_guide/indexing.html#returning-a-view-versus-a-copy\n"
     ]
    },
    {
     "name": "stdout",
     "output_type": "stream",
     "text": [
      "[1 0 1 ... 1 1 1]\n"
     ]
    }
   ],
   "source": [
    "loaded_model = joblib.load(filename)\n",
    "result = loaded_model.predict(loaded_preprocessing.transform(test_df))\n",
    "print(result)"
   ]
  },
  {
   "cell_type": "code",
   "execution_count": 34,
   "id": "68dc0a48",
   "metadata": {},
   "outputs": [
    {
     "data": {
      "text/html": [
       "<div>\n",
       "<style scoped>\n",
       "    .dataframe tbody tr th:only-of-type {\n",
       "        vertical-align: middle;\n",
       "    }\n",
       "\n",
       "    .dataframe tbody tr th {\n",
       "        vertical-align: top;\n",
       "    }\n",
       "\n",
       "    .dataframe thead th {\n",
       "        text-align: right;\n",
       "    }\n",
       "</style>\n",
       "<table border=\"1\" class=\"dataframe\">\n",
       "  <thead>\n",
       "    <tr style=\"text-align: right;\">\n",
       "      <th></th>\n",
       "      <th>PassengerId</th>\n",
       "      <th>HomePlanet</th>\n",
       "      <th>CryoSleep</th>\n",
       "      <th>Cabin</th>\n",
       "      <th>Destination</th>\n",
       "      <th>Age</th>\n",
       "      <th>VIP</th>\n",
       "      <th>RoomService</th>\n",
       "      <th>FoodCourt</th>\n",
       "      <th>ShoppingMall</th>\n",
       "      <th>Spa</th>\n",
       "      <th>VRDeck</th>\n",
       "      <th>Name</th>\n",
       "      <th>Transported</th>\n",
       "    </tr>\n",
       "  </thead>\n",
       "  <tbody>\n",
       "    <tr>\n",
       "      <th>0</th>\n",
       "      <td>0087_01</td>\n",
       "      <td>Earth</td>\n",
       "      <td>False</td>\n",
       "      <td>E/3/P</td>\n",
       "      <td>TRAPPIST-1e</td>\n",
       "      <td>19</td>\n",
       "      <td>False</td>\n",
       "      <td>0</td>\n",
       "      <td>20</td>\n",
       "      <td>135</td>\n",
       "      <td>265</td>\n",
       "      <td>367</td>\n",
       "      <td>Meremy Jarvey</td>\n",
       "      <td>True</td>\n",
       "    </tr>\n",
       "  </tbody>\n",
       "</table>\n",
       "</div>"
      ],
      "text/plain": [
       "  PassengerId HomePlanet  CryoSleep  Cabin  Destination  Age    VIP  \\\n",
       "0     0087_01      Earth      False  E/3/P  TRAPPIST-1e   19  False   \n",
       "\n",
       "   RoomService  FoodCourt  ShoppingMall  Spa  VRDeck           Name  \\\n",
       "0            0         20           135  265     367  Meremy Jarvey   \n",
       "\n",
       "   Transported  \n",
       "0         True  "
      ]
     },
     "execution_count": 34,
     "metadata": {},
     "output_type": "execute_result"
    }
   ],
   "source": [
    "test_df_1=pd.read_csv(\"test_1.csv\")\n",
    "test_df_1\n"
   ]
  },
  {
   "cell_type": "code",
   "execution_count": 35,
   "id": "10a45af2",
   "metadata": {},
   "outputs": [
    {
     "name": "stderr",
     "output_type": "stream",
     "text": [
      "/home/arijit/anaconda3/lib/python3.7/site-packages/ipykernel_launcher.py:59: SettingWithCopyWarning: \n",
      "A value is trying to be set on a copy of a slice from a DataFrame.\n",
      "Try using .loc[row_indexer,col_indexer] = value instead\n",
      "\n",
      "See the caveats in the documentation: https://pandas.pydata.org/pandas-docs/stable/user_guide/indexing.html#returning-a-view-versus-a-copy\n"
     ]
    },
    {
     "data": {
      "text/plain": [
       "0"
      ]
     },
     "execution_count": 35,
     "metadata": {},
     "output_type": "execute_result"
    }
   ],
   "source": [
    "result_1 = loaded_model.predict(loaded_preprocessing.transform(test_df_1))\n",
    "result_1[0]"
   ]
  },
  {
   "cell_type": "code",
   "execution_count": null,
   "metadata": {},
   "outputs": [],
   "source": []
  }
 ],
 "metadata": {
  "kernelspec": {
   "display_name": "Python 3",
   "language": "python",
   "name": "python3"
  },
  "language_info": {
   "codemirror_mode": {
    "name": "ipython",
    "version": 3
   },
   "file_extension": ".py",
   "mimetype": "text/x-python",
   "name": "python",
   "nbconvert_exporter": "python",
   "pygments_lexer": "ipython3",
   "version": "3.7.6"
  },
  "vscode": {
   "interpreter": {
    "hash": "23b4a3e8622309bcc6db3d5cc6eb73d60ab98d9ec23bad6a26b709981ccb403a"
   }
  }
 },
 "nbformat": 4,
 "nbformat_minor": 5
}
